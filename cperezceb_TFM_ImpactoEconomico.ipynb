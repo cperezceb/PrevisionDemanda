{
 "cells": [
  {
   "cell_type": "markdown",
   "metadata": {},
   "source": [
    "<div style=\"width: 100%; clear: both;\">\n",
    "<div style=\"float: left; width: 50%;\">\n",
    "<img src=\"http://www.uoc.edu/portal/_resources/common/imatges/marca_UOC/UOC_Masterbrand.jpg\", align=\"left\">\n",
    "</div>\n",
    "<div style=\"float: right; width: 50%;\">\n",
    "<p style=\"margin: 0; padding-top: 22px; text-align:right;\">TFM - Previsión de demanda mediante uso de técnicas de machine learning\n",
    "</p>\n",
    "<p style=\"margin: 0; text-align:right;\">Máster universitario en Ciencia de datos (Data science)</p>\n",
    "<p style=\"margin: 0; text-align:right; padding-button: 100px;\">Carlos Pérez Cebrián</p>\n",
    "</div>\n",
    "</div>\n",
    "<div style=\"width:100%;\">&nbsp;</div>"
   ]
  },
  {
   "cell_type": "markdown",
   "metadata": {},
   "source": [
    "# Impacto económico\n",
    "\n",
    "Se quiere estudiar el impacto económico que supone la aplicación del modelo que mejor resultados ha obtenido en la predicción de ventas.\n",
    "Para ello, utilizaremos el modelo XGBoost (Extreme Gradient Boosting) y el conjunto de datos Ventas y Precio Medio"
   ]
  },
  {
   "cell_type": "markdown",
   "metadata": {},
   "source": [
    "Cargamos las siguientes librerías necesarias:"
   ]
  },
  {
   "cell_type": "code",
   "execution_count": 1,
   "metadata": {},
   "outputs": [],
   "source": [
    "import random\n",
    "\n",
    "import matplotlib\n",
    "import matplotlib.pyplot as plt\n",
    "import numpy as np\n",
    "import pandas as pd\n",
    "import seaborn as sns\n",
    "import sklearn\n",
    "from sklearn import cluster        # algoritmos de clustering.\n",
    "from sklearn import datasets       \n",
    "from sklearn.preprocessing import StandardScaler #estandarizar datos\n",
    "from sklearn.decomposition import PCA #análisis de componentes principales, reducir dimensiones\n",
    "from sklearn.preprocessing import LabelEncoder #codificación variables categóricas\n",
    "from sklearn.model_selection import train_test_split  #split dataframes train, test, validación\n",
    "from sklearn.metrics import mean_squared_error, mean_absolute_error, r2_score #metricas\n",
    "import xgboost as xgb\n",
    "from xgboost import XGBRegressor   # Importar la clase XGBClassifier\n",
    "import math\n",
    "\n",
    "%matplotlib inline"
   ]
  },
  {
   "cell_type": "code",
   "execution_count": 2,
   "metadata": {},
   "outputs": [
    {
     "name": "stdout",
     "output_type": "stream",
     "text": [
      "Variables utilizadas en el modelo: ['producto', 'bolOpen', 'EnPromocion', 'diasemana', 'semana', 'media_7_dias', 'media_30_dias', 'venta_lag_1', 'venta_lag_7', 'venta_lag_30']\n"
     ]
    }
   ],
   "source": [
    "# Cargar el modelo XGBoost desde el archivo JSON\n",
    "modelo_xgb = xgb.Booster()\n",
    "modelo_xgb.load_model('modelo_xgboost.json')\n",
    "\n",
    "# características del modelo\n",
    "variables_modelo = modelo_xgb.feature_names\n",
    "print(\"Variables utilizadas en el modelo:\", variables_modelo)"
   ]
  },
  {
   "cell_type": "markdown",
   "metadata": {},
   "source": [
    "Cargar el conjunto de datos:\n",
    "(Nota: el conjunto de datos es el resultado de una fase de exploración, analisis y preparación previa."
   ]
  },
  {
   "cell_type": "code",
   "execution_count": 3,
   "metadata": {},
   "outputs": [],
   "source": [
    "# Cargar el archivo CSV con los datos de ventas\n",
    "file_path = \"Data/VentasRdo.csv\"\n",
    "#file_path = \"Data/VentasRdo_10productos.csv\"\n",
    "dfVenta = pd.read_csv(file_path, parse_dates=['idSecuencia'])\n",
    "\n",
    "# Cargar el archivo CSV con los precios medios de cada producto\n",
    "file_path = \"Data/DatosPrecioMedio.xlsx\"\n",
    "dfPrecioMedio = pd.read_excel(file_path)"
   ]
  },
  {
   "cell_type": "code",
   "execution_count": 4,
   "metadata": {},
   "outputs": [],
   "source": [
    "# mismas variables\n",
    "dfVenta_prediccion = dfVenta[variables_modelo].copy()  \n",
    "\n",
    "# Codificar variables categóricas\n",
    "label_encoder = LabelEncoder()\n",
    "dfVenta_prediccion['producto'] = label_encoder.fit_transform(dfVenta_prediccion['producto'])\n",
    "dfVenta_prediccion['bolOpen'] = label_encoder.fit_transform(dfVenta_prediccion['bolOpen'])\n",
    "dfVenta_prediccion['EnPromocion'] = label_encoder.fit_transform(dfVenta_prediccion['EnPromocion'])\n",
    "dfVenta_prediccion['diasemana'] = label_encoder.fit_transform(dfVenta_prediccion['diasemana'])\n",
    "dfVenta_prediccion['semana'] = label_encoder.fit_transform(dfVenta_prediccion['semana'])\n",
    "\n",
    "# revisar columnas en dfVenta_prediccion y del modelo\n",
    "dfVenta_prediccion = dfVenta_prediccion[variables_modelo]\n",
    "\n",
    "#matriz numpy(formato XGBoost)\n",
    "X_pred = xgb.DMatrix(dfVenta_prediccion)"
   ]
  },
  {
   "cell_type": "code",
   "execution_count": 5,
   "metadata": {},
   "outputs": [],
   "source": [
    "# predecir\n",
    "predicciones = modelo_xgb.predict(X_pred)\n",
    "\n",
    "# añadir las predicciones\n",
    "# las predicciones están en escala logaritmica por el problema de la heterostacidad.\n",
    "dfVenta['predicciones_udsVenta'] = np.exp(predicciones)\n",
    "# las unidades están en escala logaritmica porque hemos cargado el fichero de la preparación\n",
    "dfVenta['udsVenta_original'] = np.exp(dfVenta['udsVenta'])"
   ]
  },
  {
   "cell_type": "code",
   "execution_count": 6,
   "metadata": {},
   "outputs": [],
   "source": [
    "# combinar ventas con dfPrecioMedio\n",
    "dfResultado = dfVenta.merge(dfPrecioMedio, on='producto')"
   ]
  },
  {
   "cell_type": "code",
   "execution_count": 7,
   "metadata": {},
   "outputs": [
    {
     "name": "stdout",
     "output_type": "stream",
     "text": [
      "Mejora económica total: -7767713.559337854\n"
     ]
    }
   ],
   "source": [
    "# Calcular el coste con la unidades actuales y estimadas\n",
    "dfResultado['importe_prediccion'] = dfResultado['predicciones_udsVenta'] * dfResultado['eurPrecioMedio']\n",
    "dfResultado['importe_actual'] = dfResultado['udsVenta_original'] * dfResultado['eurPrecioMedio']\n",
    "\n",
    "# diferencia entre los importes\n",
    "dfResultado['mejora_economica'] = dfResultado['importe_prediccion'] - dfResultado['importe_actual']\n",
    "\n",
    "mejora_total = dfResultado['mejora_economica'].sum()\n",
    "print(f\"Mejora económica total: {mejora_total}\")"
   ]
  },
  {
   "cell_type": "code",
   "execution_count": 8,
   "metadata": {},
   "outputs": [
    {
     "data": {
      "image/png": "[encoded data removed]",
      "text/plain": [
       "<Figure size 640x480 with 1 Axes>"
      ]
     },
     "metadata": {},
     "output_type": "display_data"
    }
   ],
   "source": [
    "# Graficar los resultados\n",
    "dfResultado[['importe_actual', 'importe_prediccion']].sum().plot(kind='bar',\n",
    "                                                                title='Comparación de Importes Totales',\n",
    "                                                                ylabel='Importe Total (€)',\n",
    "                                                                rot=0)\n",
    "plt.show()"
   ]
  }
 ],
 "metadata": {
  "celltoolbar": "Raw Cell Format",
  "kernelspec": {
   "display_name": "Python 3 (ipykernel)",
   "language": "python",
   "name": "python3"
  },
  "language_info": {
   "codemirror_mode": {
    "name": "ipython",
    "version": 3
   },
   "file_extension": ".py",
   "mimetype": "text/x-python",
   "name": "python",
   "nbconvert_exporter": "python",
   "pygments_lexer": "ipython3",
   "version": "3.11.5"
  }
 },
 "nbformat": 4,
 "nbformat_minor": 4
}
